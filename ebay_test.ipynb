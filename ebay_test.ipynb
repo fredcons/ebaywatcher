{
 "cells": [
  {
   "cell_type": "markdown",
   "metadata": {},
   "source": [
    "## A few imports to get started with"
   ]
  },
  {
   "cell_type": "code",
   "execution_count": 1,
   "metadata": {},
   "outputs": [],
   "source": [
    "from model import SearchResult, SearchDefinition\n",
    "from services import MailFormatter, SearchDefinitionLoader, MailSender, DateFormatter, ConfigLoader, ConsolePrinter"
   ]
  },
  {
   "cell_type": "markdown",
   "metadata": {},
   "source": [
    "## We load the main config file"
   ]
  },
  {
   "cell_type": "code",
   "execution_count": 2,
   "metadata": {},
   "outputs": [],
   "source": [
    "config_path = \"config/config_template.yaml\"\n",
    "config_loader = ConfigLoader()\n",
    "config = config_loader.load_config(config_path)"
   ]
  },
  {
   "cell_type": "markdown",
   "metadata": {},
   "source": [
    "## We then load the search definitions"
   ]
  },
  {
   "cell_type": "code",
   "execution_count": 3,
   "metadata": {
    "scrolled": false
   },
   "outputs": [],
   "source": [
    "search_definitions_path = \"config/search_definitions_template.yaml\"\n",
    "search_definition_loader = SearchDefinitionLoader(config.search_config)\n",
    "search_definitions = search_definition_loader.load_definitions(search_definitions_path)"
   ]
  },
  {
   "cell_type": "markdown",
   "metadata": {},
   "source": [
    "## Let's search 1 day back in time"
   ]
  },
  {
   "cell_type": "code",
   "execution_count": 4,
   "metadata": {},
   "outputs": [],
   "source": [
    "num_days_back = 1\n",
    "start_date = DateFormatter.get_start_date(num_days_back)"
   ]
  },
  {
   "cell_type": "markdown",
   "metadata": {},
   "source": [
    "## We now perform the search"
   ]
  },
  {
   "cell_type": "code",
   "execution_count": 5,
   "metadata": {
    "scrolled": true
   },
   "outputs": [
    {
     "name": "stdout",
     "output_type": "stream",
     "text": [
      "Search for stereolab gave 3 results\n"
     ]
    }
   ],
   "source": [
    "from search import Search\n",
    "\n",
    "search = Search(config.search_config)\n",
    "results = search.search(start_date, search_definitions)"
   ]
  },
  {
   "cell_type": "markdown",
   "metadata": {},
   "source": [
    "## We can display it in a table in a terminal (ugly in a notebook)"
   ]
  },
  {
   "cell_type": "code",
   "execution_count": 6,
   "metadata": {},
   "outputs": [
    {
     "name": "stdout",
     "output_type": "stream",
     "text": [
      "\u001b(0l\u001b(B 3 results found \u001b(0qqqqqqqqqqqqqqqqqqqqqqqqqqqqqqqqqqqqqqqqqqqqqqqqqqqqqqqqqqqqqqqwqqqqqqqqqqqwqqqqqqqqqqwqqqqqqqqqqqqqqqqqqqqqk\u001b(B\n",
      "\u001b(0x\u001b(B Title                                                                          \u001b(0x\u001b(B Price     \u001b(0x\u001b(B Category \u001b(0x\u001b(B End time            \u001b(0x\u001b(B\n",
      "\u001b(0tqqqqqqqqqqqqqqqqqqqqqqqqqqqqqqqqqqqqqqqqqqqqqqqqqqqqqqqqqqqqqqqqqqqqqqqqqqqqqqqqnqqqqqqqqqqqnqqqqqqqqqqnqqqqqqqqqqqqqqqqqqqqqu\u001b(B\n",
      "\u001b(0x\u001b(B SONIC YOUTH-V/A‎–All Tomorrow's Parties 1.1-UK 2xLP–NM-2001-UNPLAYED-STEREOLAB \u001b(0x\u001b(B 20.00 GBP \u001b(0x\u001b(B Records  \u001b(0x\u001b(B 2018-11-03 15:47:33 \u001b(0x\u001b(B\n",
      "\u001b(0x\u001b(B Cavern Of Anti Matter ‘Play In Fabric’ 7” Duophonic, Stereolab                 \u001b(0x\u001b(B 1.00 GBP  \u001b(0x\u001b(B Records  \u001b(0x\u001b(B 2018-10-28 21:13:49 \u001b(0x\u001b(B\n",
      "\u001b(0x\u001b(B JOAN BAEZ MAX 20 STEREOLAB MAX-9 Japan LP                                      \u001b(0x\u001b(B 6.99 USD  \u001b(0x\u001b(B Records  \u001b(0x\u001b(B 2018-10-29 01:10:46 \u001b(0x\u001b(B\n",
      "\u001b(0mqqqqqqqqqqqqqqqqqqqqqqqqqqqqqqqqqqqqqqqqqqqqqqqqqqqqqqqqqqqqqqqqqqqqqqqqqqqqqqqqvqqqqqqqqqqqvqqqqqqqqqqvqqqqqqqqqqqqqqqqqqqqqj\u001b(B\n"
     ]
    }
   ],
   "source": [
    "ConsolePrinter.print_results(results)"
   ]
  },
  {
   "cell_type": "markdown",
   "metadata": {},
   "source": [
    "## Or in HTML"
   ]
  },
  {
   "cell_type": "code",
   "execution_count": 7,
   "metadata": {},
   "outputs": [
    {
     "data": {
      "text/html": [
       "<html>\n",
       "  <head>\n",
       "    <meta content=\"text/html; charset=UTF-8\" http-equiv=\"Content-Type\" />\n",
       "  </head>\n",
       "  <body>\n",
       "\n",
       "    <table>\n",
       "      <tr>\n",
       "        <th>&nbsp;</th>\n",
       "        <th>Title</th>\n",
       "        <th>Category</th>\n",
       "        <th>Price</th>\n",
       "        <th>End time</th>\n",
       "      </tr>  \n",
       "      \n",
       "      <tr>\n",
       "        <td><img src=\"http://thumbs2.ebaystatic.com/m/mxGe_uJAKAYOhE4uvB1E77A/140.jpg\" /></td>\n",
       "        <td><a href=\"http://www.ebay.fr/itm/SONIC-YOUTH-V-A-All-Tomorrows-Parties-1-1-UK-2xLP-NM-2001-UNPLAYED-STEREOLAB-/123447768205\">SONIC YOUTH-V/A‎–All Tomorrow's Parties 1.1-UK 2xLP–NM-2001-UNPLAYED-STEREOLAB</a></td>       \n",
       "        <td>Records</td>\n",
       "        <td>20.00 GBP</td>\n",
       "        <td>2018-11-03 15:47:33</td>\n",
       "      </tr>\n",
       "      \n",
       "      <tr>\n",
       "        <td><img src=\"http://thumbs3.ebaystatic.com/m/mT3gC1H5f3ZCOou3tjeUi7A/140.jpg\" /></td>\n",
       "        <td><a href=\"http://www.ebay.fr/itm/Cavern-Of-Anti-Matter-Play-In-Fabric-7-Duophonic-Stereolab-/283225161614\">Cavern Of Anti Matter ‘Play In Fabric’ 7” Duophonic, Stereolab</a></td>       \n",
       "        <td>Records</td>\n",
       "        <td>1.00 GBP</td>\n",
       "        <td>2018-10-28 21:13:49</td>\n",
       "      </tr>\n",
       "      \n",
       "      <tr>\n",
       "        <td><img src=\"http://thumbs3.ebaystatic.com/m/mpnOyOevKkEUqw7PUbQITQg/140.jpg\" /></td>\n",
       "        <td><a href=\"http://www.ebay.com/itm/JOAN-BAEZ-MAX-20-STEREOLAB-MAX-9-Japan-LP-/192699444018\">JOAN BAEZ MAX 20 STEREOLAB MAX-9 Japan LP</a></td>       \n",
       "        <td>Records</td>\n",
       "        <td>6.99 USD</td>\n",
       "        <td>2018-10-29 01:10:46</td>\n",
       "      </tr>\n",
       "      \n",
       "    </table>\n",
       "\n",
       "  </body>\n",
       "</html>"
      ],
      "text/plain": [
       "<IPython.core.display.HTML object>"
      ]
     },
     "metadata": {},
     "output_type": "display_data"
    }
   ],
   "source": [
    "from IPython.core.display import display, HTML\n",
    "mail = MailFormatter.format_results(results)\n",
    "display(HTML(mail))"
   ]
  },
  {
   "cell_type": "markdown",
   "metadata": {},
   "source": [
    "## We can also create a search from scratch for exploration"
   ]
  },
  {
   "cell_type": "code",
   "execution_count": 8,
   "metadata": {},
   "outputs": [
    {
     "name": "stdout",
     "output_type": "stream",
     "text": [
      "Search for brian eno gave 12 results\n"
     ]
    },
    {
     "data": {
      "text/html": [
       "<html>\n",
       "  <head>\n",
       "    <meta content=\"text/html; charset=UTF-8\" http-equiv=\"Content-Type\" />\n",
       "  </head>\n",
       "  <body>\n",
       "\n",
       "    <table>\n",
       "      <tr>\n",
       "        <th>&nbsp;</th>\n",
       "        <th>Title</th>\n",
       "        <th>Category</th>\n",
       "        <th>Price</th>\n",
       "        <th>End time</th>\n",
       "      </tr>  \n",
       "      \n",
       "      <tr>\n",
       "        <td><img src=\"http://thumbs2.ebaystatic.com/m/mYqumcfLRIsK7-nj6GrjD8g/140.jpg\" /></td>\n",
       "        <td><a href=\"http://www.ebay.com/itm/ULTRAVOX-LP-Systems-Romance-1978-ISLAND-MUSIC-FIRST-PRESS-New-Wave-/382602553305\">ULTRAVOX LP - Systems Of Romance (1978) ISLAND MUSIC FIRST PRESS, New Wave</a></td>       \n",
       "        <td>Records</td>\n",
       "        <td>3.99 USD</td>\n",
       "        <td>2018-10-30 18:29:00</td>\n",
       "      </tr>\n",
       "      \n",
       "      <tr>\n",
       "        <td><img src=\"http://thumbs4.ebaystatic.com/m/mQoyX-KxFDQmx3E02zdW1QA/140.jpg\" /></td>\n",
       "        <td><a href=\"http://www.ebay.com/itm/Brian-Eno-Here-Come-Warm-Jets-LP-Editions-EG-ENO-1-/302932521351\">Brian Eno ‎– Here Come The Warm Jets LP Editions EG ‎– ENO 1</a></td>       \n",
       "        <td>Records</td>\n",
       "        <td>19.99 USD</td>\n",
       "        <td>2018-10-31 16:10:24</td>\n",
       "      </tr>\n",
       "      \n",
       "      <tr>\n",
       "        <td><img src=\"http://thumbs1.ebaystatic.com/m/mDkJ9VkBKefaxBqq2PRNlUA/140.jpg\" /></td>\n",
       "        <td><a href=\"http://www.ebay.com/itm/Brian-Eno-David-Byrne-My-Life-Bush-Ghost-Vinyl-LP-Record-BRAND-NEW-/382603661360\">Brian Eno & David Byrne My Life in the Bush Of Ghost Vinyl LP Record BRAND NEW</a></td>       \n",
       "        <td>Records</td>\n",
       "        <td>18.36 USD</td>\n",
       "        <td>2018-10-31 17:48:06</td>\n",
       "      </tr>\n",
       "      \n",
       "      <tr>\n",
       "        <td><img src=\"http://thumbs2.ebaystatic.com/m/m_YsrAA_uOxfQNjKiA7_HUQ/140.jpg\" /></td>\n",
       "        <td><a href=\"http://www.ebay.com/itm/ROXY-MUSIC-feat-BRIAN-ENO-FOR-YOUR-PLEASURE-2nd-ALBUM-RARE-SEALED-75-ATCO-LP-/352494222485\">ROXY MUSIC feat.BRIAN ENO~FOR YOUR PLEASURE~2nd ALBUM~RARE SEALED '75 ATCO LP</a></td>       \n",
       "        <td>Records</td>\n",
       "        <td>14.99 USD</td>\n",
       "        <td>2018-10-29 00:37:01</td>\n",
       "      </tr>\n",
       "      \n",
       "      <tr>\n",
       "        <td><img src=\"http://thumbs4.ebaystatic.com/m/mKsdaO1O8Sy5fF3yKeHyFQg/140.jpg\" /></td>\n",
       "        <td><a href=\"http://www.ebay.com/itm/Brian-Eno-Records-x2-Music-Films-Volume-2-EGSP-2-Discreet-EGS303-Vinyl-LPs-/401622348199\">Brian Eno Records x2: Music For Films Volume 2 EGSP-2, Discreet EGS303 Vinyl LPs</a></td>       \n",
       "        <td>Records</td>\n",
       "        <td>9.99 USD</td>\n",
       "        <td>2018-10-30 18:08:27</td>\n",
       "      </tr>\n",
       "      \n",
       "      <tr>\n",
       "        <td><img src=\"http://thumbs4.ebaystatic.com/m/mDKXWwn6AN5RVCPoacA8Ylg/140.jpg\" /></td>\n",
       "        <td><a href=\"http://www.ebay.com/itm/VA-BRIAN-ENO-FIRST-EDITION-EDITION-EG-28MM-0181-Japan-OBI-PROMO-VINYL-LP-/362467071779\">VA(BRIAN ENO) FIRST EDITION EDITION EG 28MM 0181 Japan OBI PROMO VINYL LP</a></td>       \n",
       "        <td>Records</td>\n",
       "        <td>0.99 USD</td>\n",
       "        <td>2018-10-28 20:48:02</td>\n",
       "      </tr>\n",
       "      \n",
       "      <tr>\n",
       "        <td><img src=\"http://thumbs2.ebaystatic.com/m/mXJe3xUCnxsH9GakRiEXlwg/140.jpg\" /></td>\n",
       "        <td><a href=\"http://www.ebay.com/itm/No-New-York-Vinyl-Record-/264004132605\">No New York Vinyl Record</a></td>       \n",
       "        <td>Records</td>\n",
       "        <td>27.00 USD</td>\n",
       "        <td>2018-10-31 02:59:24</td>\n",
       "      </tr>\n",
       "      \n",
       "      <tr>\n",
       "        <td><img src=\"http://thumbs2.ebaystatic.com/m/mDplO---H7iUoNgo1kVXf4A/140.jpg\" /></td>\n",
       "        <td><a href=\"http://www.ebay.com/itm/BRIAN-ENO-Ambient-1-Music-airports-EGS-201-Reissue-1982-USA-/223201192793\">BRIAN ENO Ambient 1 (Music for airports) EGS 201 Reissue 1982 USA</a></td>       \n",
       "        <td>Records</td>\n",
       "        <td>24.99 USD</td>\n",
       "        <td>2018-10-30 19:08:40</td>\n",
       "      </tr>\n",
       "      \n",
       "      <tr>\n",
       "        <td><img src=\"http://thumbs4.ebaystatic.com/m/muGTP02FlXLP8HC8NM1fuqQ/140.jpg\" /></td>\n",
       "        <td><a href=\"http://www.ebay.com/itm/U2-UNFORGETTABLE-FIRE-RARE-STILL-SEALED-ORIG-84-ISLAND-LP-BEAUTIFUL-/142985420079\">U2~UNFORGETTABLE FIRE~RARE STILL SEALED ORIG '84 ISLAND LP~BEAUTIFUL</a></td>       \n",
       "        <td>Records</td>\n",
       "        <td>24.99 USD</td>\n",
       "        <td>2018-10-29 00:45:01</td>\n",
       "      </tr>\n",
       "      \n",
       "      <tr>\n",
       "        <td><img src=\"http://thumbs4.ebaystatic.com/m/mG1lRtBG3uo49YEaGZ03_1g/140.jpg\" /></td>\n",
       "        <td><a href=\"http://www.ebay.com/itm/Brian-Eno-Small-Craft-Milk-Sea-Collectors-Edition-2-Vinyl-2-CD-NM-OOP-/302931642731\">Brian Eno — Small Craft on a Milk Sea — Collectors Edition 2 Vinyl 2 CD NM OOP!</a></td>       \n",
       "        <td>Records</td>\n",
       "        <td>199.99 USD</td>\n",
       "        <td>2018-10-30 23:06:47</td>\n",
       "      </tr>\n",
       "      \n",
       "      <tr>\n",
       "        <td><img src=\"http://thumbs1.ebaystatic.com/m/m3kdu_sMJhn3YrOsgOcvifA/140.jpg\" /></td>\n",
       "        <td><a href=\"http://www.ebay.com/itm/Passengers-Miss-Sarajevo-7-Single-Poster-U2-Brian-Eno-UK-1995-/273524027944\">Passengers - Miss Sarajevo 7” Single + Poster (U2, Brian Eno) UK 1995</a></td>       \n",
       "        <td>Records</td>\n",
       "        <td>7.99 GBP</td>\n",
       "        <td>2018-10-31 17:50:01</td>\n",
       "      </tr>\n",
       "      \n",
       "      <tr>\n",
       "        <td><img src=\"http://thumbs4.ebaystatic.com/m/m-7YD0wbTULC7BS89C1k-fg/140.jpg\" /></td>\n",
       "        <td><a href=\"http://www.ebay.com/itm/Brian-Eno-LP-Ambient-1-Music-Airports-Ambient-electronic-/382603440823\">Brian Eno LP Ambient 1 Music For Airports on Ambient electronic</a></td>       \n",
       "        <td>Records</td>\n",
       "        <td>25.00 USD</td>\n",
       "        <td>2018-10-31 13:57:21</td>\n",
       "      </tr>\n",
       "      \n",
       "    </table>\n",
       "\n",
       "  </body>\n",
       "</html>"
      ],
      "text/plain": [
       "<IPython.core.display.HTML object>"
      ]
     },
     "metadata": {},
     "output_type": "display_data"
    }
   ],
   "source": [
    "search_definitions = [ SearchDefinition(\"brian eno\", 176985, [\"EBAY-US\"], True, True, True) ]\n",
    "results = search.search(start_date, search_definitions)\n",
    "mail = MailFormatter.format_results(results)\n",
    "display(HTML(mail))"
   ]
  },
  {
   "cell_type": "markdown",
   "metadata": {},
   "source": [
    "## Then send yourself an email"
   ]
  },
  {
   "cell_type": "code",
   "execution_count": 9,
   "metadata": {},
   "outputs": [],
   "source": [
    "mail_sender = MailSender(config.email_config)\n",
    "mail_sender.send_mail(mail)"
   ]
  }
 ],
 "metadata": {
  "kernelspec": {
   "display_name": "Python 3",
   "language": "python",
   "name": "python3"
  },
  "language_info": {
   "codemirror_mode": {
    "name": "ipython",
    "version": 3
   },
   "file_extension": ".py",
   "mimetype": "text/x-python",
   "name": "python",
   "nbconvert_exporter": "python",
   "pygments_lexer": "ipython3",
   "version": "3.6.2"
  }
 },
 "nbformat": 4,
 "nbformat_minor": 2
}
